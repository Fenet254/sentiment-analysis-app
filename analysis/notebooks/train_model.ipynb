{
 "cells": [
  {
   "cell_type": "code",
   "execution_count": null,
   "id": "01df20f3",
   "metadata": {
    "vscode": {
     "languageId": "plaintext"
    }
   },
   "outputs": [],
   "source": [
    "import pandas as pd\n",
    "\n",
    "# Load your CSV\n",
    "df = pd.read_csv(\"../data/sentiment_data.csv\")  # Make sure the path is correct\n",
    "print(df.head())  # Optional: shows first few rows\n"
   ]
  }
 ],
 "metadata": {
  "language_info": {
   "name": "python"
  }
 },
 "nbformat": 4,
 "nbformat_minor": 5
}
